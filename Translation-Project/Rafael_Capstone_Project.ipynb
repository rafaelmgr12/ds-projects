{
  "nbformat": 4,
  "nbformat_minor": 0,
  "metadata": {
    "accelerator": "GPU",
    "colab": {
      "name": "Rafael-Capstone-Project.ipynb",
      "provenance": [],
      "collapsed_sections": [],
      "machine_shape": "hm",
      "include_colab_link": true
    },
    "kernelspec": {
      "display_name": "Python 3",
      "language": "python",
      "name": "python3"
    },
    "language_info": {
      "codemirror_mode": {
        "name": "ipython",
        "version": 3
      },
      "file_extension": ".py",
      "mimetype": "text/x-python",
      "name": "python",
      "nbconvert_exporter": "python",
      "pygments_lexer": "ipython3",
      "version": "3.8.5"
    }
  },
  "cells": [
    {
      "cell_type": "markdown",
      "metadata": {
        "id": "view-in-github",
        "colab_type": "text"
      },
      "source": [
        "<a href=\"https://colab.research.google.com/github/rafaelmgr12/ds-projects/blob/main/Translation-Project/Rafael_Capstone_Project.ipynb\" target=\"_parent\"><img src=\"https://colab.research.google.com/assets/colab-badge.svg\" alt=\"Open In Colab\"/></a>"
      ]
    },
    {
      "cell_type": "markdown",
      "metadata": {
        "id": "0xyFSeXcnDVS"
      },
      "source": [
        "# Capstone Project\n",
        "## Neural translation model\n",
        "### Instructions\n",
        "\n",
        "In this notebook, you will create a neural network that translates from English to German. You will use concepts from throughout this course, including building more flexible model architectures, freezing layers, data processing pipeline and sequence modelling.\n",
        "\n",
        "This project is peer-assessed. Within this notebook you will find instructions in each section for how to complete the project. Pay close attention to the instructions as the peer review will be carried out according to a grading rubric that checks key parts of the project instructions. Feel free to add extra cells into the notebook as required.\n",
        "\n",
        "### How to submit\n",
        "\n",
        "When you have completed the Capstone project notebook, you will submit a pdf of the notebook for peer review. First ensure that the notebook has been fully executed from beginning to end, and all of the cell outputs are visible. This is important, as the grading rubric depends on the reviewer being able to view the outputs of your notebook. Save the notebook as a pdf (File -> Download as -> PDF via LaTeX). You should then submit this pdf for review.\n",
        "\n",
        "### Let's get started!\n",
        "\n",
        "We'll start by running some imports, and loading the dataset. For this project you are free to make further imports throughout the notebook as you wish. "
      ]
    },
    {
      "cell_type": "code",
      "metadata": {
        "id": "dRoBTfvgnDVS"
      },
      "source": [
        "import tensorflow as tf\n",
        "import tensorflow_hub as hub\n",
        "import unicodedata\n",
        "import re\n",
        "from IPython.display import Image\n",
        "import numpy as np\n",
        "import json\n",
        "from tensorflow.keras.preprocessing.text import Tokenizer\n",
        "from tensorflow.keras.preprocessing.sequence import pad_sequences\n",
        "from tensorflow.keras.layers import Layer, Input, Dense, LSTM, Masking, Embedding\n",
        "from tensorflow.keras.models import Model\n",
        "from sklearn.model_selection import train_test_split\n",
        "import matplotlib.pyplot as plt"
      ],
      "execution_count": 1,
      "outputs": []
    },
    {
      "cell_type": "markdown",
      "metadata": {
        "id": "SGBoMAjynDVS"
      },
      "source": [
        "![germany_uk_flags.png](data:image/png;base64,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)\n",
        "For the capstone project, you will use a language dataset from http://www.manythings.org/anki/ to build a neural translation model. This dataset consists of over 200,000 pairs of sentences in English and German. In order to make the training quicker, we will restrict to our dataset to 20,000 pairs. Feel free to change this if you wish - the size of the dataset used is not part of the grading rubric.\n",
        "\n",
        "Your goal is to develop a neural translation model from English to German, making use of a pre-trained English word embedding module."
      ]
    },
    {
      "cell_type": "code",
      "metadata": {
        "colab": {
          "base_uri": "https://localhost:8080/"
        },
        "id": "HDUudQwXYXPX",
        "outputId": "2b5557fb-7309-48b6-a107-fdcdcf1da66a"
      },
      "source": [
        "from google.colab import drive\n",
        "drive.mount('/content/drive')"
      ],
      "execution_count": 2,
      "outputs": [
        {
          "output_type": "stream",
          "text": [
            "Drive already mounted at /content/drive; to attempt to forcibly remount, call drive.mount(\"/content/drive\", force_remount=True).\n"
          ],
          "name": "stdout"
        }
      ]
    },
    {
      "cell_type": "code",
      "metadata": {
        "id": "rRyjyi2QnDVS"
      },
      "source": [
        "# Run this cell to load the dataset\n",
        "\n",
        "NUM_EXAMPLES = 350000\n",
        "data_examples = []\n",
        "with open('/content/drive/MyDrive/Colab Notebooks/Translation Neural Network/data/deu.txt', 'r', encoding='utf8') as f:\n",
        "    for line in f.readlines():\n",
        "        if len(data_examples) < NUM_EXAMPLES:\n",
        "            data_examples.append(line)\n",
        "        else:\n",
        "            break"
      ],
      "execution_count": 3,
      "outputs": []
    },
    {
      "cell_type": "code",
      "metadata": {
        "id": "OeHyaSvinDVS"
      },
      "source": [
        "# These functions preprocess English and German sentences\n",
        "\n",
        "def unicode_to_ascii(s):\n",
        "    return ''.join(c for c in unicodedata.normalize('NFD', s) if unicodedata.category(c) != 'Mn')\n",
        "\n",
        "def preprocess_sentence(sentence):\n",
        "    sentence = sentence.lower().strip()\n",
        "    sentence = re.sub(r\"ü\", 'ue', sentence)\n",
        "    sentence = re.sub(r\"ä\", 'ae', sentence)\n",
        "    sentence = re.sub(r\"ö\", 'oe', sentence)\n",
        "    sentence = re.sub(r'ß', 'ss', sentence)\n",
        "    \n",
        "    sentence = unicode_to_ascii(sentence)\n",
        "    sentence = re.sub(r\"([?.!,])\", r\" \\1 \", sentence)\n",
        "    sentence = re.sub(r\"[^a-z?.!,']+\", \" \", sentence)\n",
        "    sentence = re.sub(r'[\" \"]+', \" \", sentence)\n",
        "    \n",
        "    return sentence.strip()"
      ],
      "execution_count": 4,
      "outputs": []
    },
    {
      "cell_type": "markdown",
      "metadata": {
        "id": "NfPCK4zcnDVS"
      },
      "source": [
        "#### The custom translation model\n",
        "The following is a schematic of the custom translation model architecture you will develop in this project.\n",
        "\n",
        "![Model Schematic](data/neural_translation_model.png)\n",
        "\n",
        "Key:\n",
        "![Model key](data/neural_translation_model_key.png)\n",
        "\n",
        "The custom model consists of an encoder RNN and a decoder RNN. The encoder takes words of an English sentence as input, and uses a pre-trained word embedding to embed the words into a 128-dimensional space. To indicate the end of the input sentence, a special end token (in the same 128-dimensional space) is passed in as an input. This token is a TensorFlow Variable that is learned in the training phase (unlike the pre-trained word embedding, which is frozen).\n",
        "\n",
        "The decoder RNN takes the internal state of the encoder network as its initial state. A start token is passed in as the first input, which is embedded using a learned German word embedding. The decoder RNN then makes a prediction for the next German word, which during inference is then passed in as the following input, and this process is repeated until the special `<end>` token is emitted from the decoder."
      ]
    },
    {
      "cell_type": "markdown",
      "metadata": {
        "id": "IVtksM0cnDVS"
      },
      "source": [
        "## 1. Text preprocessing\n",
        "* Create separate lists of English and German sentences, and preprocess them using the `preprocess_sentence` function provided for you above.\n",
        "* Add a special `\"<start>\"` and `\"<end>\"` token to the beginning and end of every German sentence.\n",
        "* Use the Tokenizer class from the `tf.keras.preprocessing.text` module to tokenize the German sentences, ensuring that no character filters are applied. _Hint: use the Tokenizer's \"filter\" keyword argument._\n",
        "* Print out at least 5 randomly chosen examples of (preprocessed) English and German sentence pairs. For the German sentence, print out the text (with start and end tokens) as well as the tokenized sequence.\n",
        "* Pad the end of the tokenized German sequences with zeros, and batch the complete set of sequences into one numpy array."
      ]
    },
    {
      "cell_type": "code",
      "metadata": {
        "id": "43mFogWVnDVS"
      },
      "source": [
        "eng_sentences = list()\n",
        "ger_sentences = list()\n",
        "\n",
        "for i in range(len(data_examples)):\n",
        "    eng_sentences.append(preprocess_sentence(data_examples[i].split('\\t')[0]))\n",
        "    ger_sentences.append('<start> ' + preprocess_sentence(data_examples[i].split('\\t')[1]) + ' <end>')"
      ],
      "execution_count": 5,
      "outputs": []
    },
    {
      "cell_type": "code",
      "metadata": {
        "id": "VPSo-gBZnDVS"
      },
      "source": [
        "tokenizer = Tokenizer(filters='')\n",
        "tokenizer.fit_on_texts(ger_sentences)\n",
        "german_tokenized = tokenizer.texts_to_sequences(ger_sentences)"
      ],
      "execution_count": 6,
      "outputs": []
    },
    {
      "cell_type": "code",
      "metadata": {
        "id": "Z2SEV0hlUDxG"
      },
      "source": [
        "german_tokenized_pad_seq = pad_sequences(german_tokenized, padding='post')"
      ],
      "execution_count": 7,
      "outputs": []
    },
    {
      "cell_type": "code",
      "metadata": {
        "id": "H6PMwwnAnDVS",
        "colab": {
          "base_uri": "https://localhost:8080/"
        },
        "outputId": "841fc2c8-94c8-4895-d9e4-4390a0831965"
      },
      "source": [
        "samples = np.random.choice(len(eng_sentences), 5)\n",
        "print('Random samples: {}'.format(samples))\n",
        "\n",
        "for sample in samples:\n",
        "    print(eng_sentences[sample], ger_sentences[sample], german_tokenized_pad_seq[sample])"
      ],
      "execution_count": 8,
      "outputs": [
        {
          "output_type": "stream",
          "text": [
            "Random samples: [ 16524  67308 108017  79655  41954]\n",
            "tom is a trucker . <start> tom ist lkw fahrer . <end> [   1    6    9 2233 1549    3    2    0    0    0    0    0    0    0\n",
            "    0    0    0    0    0    0    0    0    0    0    0    0    0    0\n",
            "    0    0    0    0    0    0    0    0    0    0    0    0    0    0\n",
            "    0    0    0    0    0    0    0    0    0    0    0    0    0    0\n",
            "    0    0    0    0    0    0    0    0    0    0    0    0    0    0\n",
            "    0    0    0    0    0    0    0    0    0    0    0    0    0    0\n",
            "    0]\n",
            "tom refused to help mary . <start> tom weigerte sich , maria zu helfen . <end> [   1    6 1420   27    4   37   13  144    3    2    0    0    0    0\n",
            "    0    0    0    0    0    0    0    0    0    0    0    0    0    0\n",
            "    0    0    0    0    0    0    0    0    0    0    0    0    0    0\n",
            "    0    0    0    0    0    0    0    0    0    0    0    0    0    0\n",
            "    0    0    0    0    0    0    0    0    0    0    0    0    0    0\n",
            "    0    0    0    0    0    0    0    0    0    0    0    0    0    0\n",
            "    0]\n",
            "is everything ok at the office ? <start> ist im buero alles in ordnung ? <end> [  1   9  56 540 120  19 906   7   2   0   0   0   0   0   0   0   0   0\n",
            "   0   0   0   0   0   0   0   0   0   0   0   0   0   0   0   0   0   0\n",
            "   0   0   0   0   0   0   0   0   0   0   0   0   0   0   0   0   0   0\n",
            "   0   0   0   0   0   0   0   0   0   0   0   0   0   0   0   0   0   0\n",
            "   0   0   0   0   0   0   0   0   0   0   0   0   0]\n",
            "may i have a word with you ? <start> darf ich kurz mit dir sprechen ? <end> [  1 306   5 604  28  52 168   7   2   0   0   0   0   0   0   0   0   0\n",
            "   0   0   0   0   0   0   0   0   0   0   0   0   0   0   0   0   0   0\n",
            "   0   0   0   0   0   0   0   0   0   0   0   0   0   0   0   0   0   0\n",
            "   0   0   0   0   0   0   0   0   0   0   0   0   0   0   0   0   0   0\n",
            "   0   0   0   0   0   0   0   0   0   0   0   0   0]\n",
            "he deserves the prize . <start> er verdient den preis . <end> [  1  16 735  32 817   3   2   0   0   0   0   0   0   0   0   0   0   0\n",
            "   0   0   0   0   0   0   0   0   0   0   0   0   0   0   0   0   0   0\n",
            "   0   0   0   0   0   0   0   0   0   0   0   0   0   0   0   0   0   0\n",
            "   0   0   0   0   0   0   0   0   0   0   0   0   0   0   0   0   0   0\n",
            "   0   0   0   0   0   0   0   0   0   0   0   0   0]\n"
          ],
          "name": "stdout"
        }
      ]
    },
    {
      "cell_type": "code",
      "metadata": {
        "id": "5NEmF5cUnDVT",
        "colab": {
          "base_uri": "https://localhost:8080/"
        },
        "outputId": "c45d1591-7909-4e1c-eca7-36fc131287d9"
      },
      "source": [
        "german_tokenized_pad_seq.shape\n"
      ],
      "execution_count": 9,
      "outputs": [
        {
          "output_type": "execute_result",
          "data": {
            "text/plain": [
              "(200519, 85)"
            ]
          },
          "metadata": {
            "tags": []
          },
          "execution_count": 9
        }
      ]
    },
    {
      "cell_type": "markdown",
      "metadata": {
        "id": "yX1XxsAcnDVT"
      },
      "source": [
        "## 2. Prepare the data with tf.data.Dataset objects"
      ]
    },
    {
      "cell_type": "markdown",
      "metadata": {
        "id": "VoYdFNLAnDVT"
      },
      "source": [
        "#### Load the embedding layer\n",
        "As part of the dataset preproceessing for this project, you will use a pre-trained English word embedding module from TensorFlow Hub. The URL for the module is https://tfhub.dev/google/tf2-preview/nnlm-en-dim128-with-normalization/1. This module has also been made available as a complete saved model in the folder `'./models/tf2-preview_nnlm-en-dim128_1'`. \n",
        "\n",
        "This embedding takes a batch of text tokens in a 1-D tensor of strings as input. It then embeds the separate tokens into a 128-dimensional space. \n",
        "\n",
        "The code to load and test the embedding layer is provided for you below.\n",
        "\n",
        "**NB:** this model can also be used as a sentence embedding module. The module will process each token by removing punctuation and splitting on spaces. It then averages the word embeddings over a sentence to give a single embedding vector. However, we will use it only as a word embedding module, and will pass each word in the input sentence as a separate token."
      ]
    },
    {
      "cell_type": "code",
      "metadata": {
        "id": "BAt36xagnDVT"
      },
      "source": [
        "# Load embedding module from Tensorflow Hub\n",
        "\n",
        "embedding_layer = hub.KerasLayer(\"https://tfhub.dev/google/tf2-preview/nnlm-en-dim128/1\", \n",
        "                                 output_shape=[128], input_shape=[], dtype=tf.string)"
      ],
      "execution_count": 10,
      "outputs": []
    },
    {
      "cell_type": "code",
      "metadata": {
        "colab": {
          "base_uri": "https://localhost:8080/"
        },
        "id": "leD1msn_nDVT",
        "outputId": "1693095a-9809-4411-d08d-2464c94cb843"
      },
      "source": [
        "# Test the layer\n",
        "\n",
        "embedding_layer(tf.constant([\"these\", \"aren't\", \"the\", \"droids\", \"you're\", \"looking\", \"for\"])).shape"
      ],
      "execution_count": 11,
      "outputs": [
        {
          "output_type": "execute_result",
          "data": {
            "text/plain": [
              "TensorShape([7, 128])"
            ]
          },
          "metadata": {
            "tags": []
          },
          "execution_count": 11
        }
      ]
    },
    {
      "cell_type": "markdown",
      "metadata": {
        "id": "T-aT5IyznDVT"
      },
      "source": [
        "You should now prepare the training and validation Datasets.\n",
        "\n",
        "* Create a random training and validation set split of the data, reserving e.g. 20% of the data for validation (NB: each English dataset example is a single sentence string, and each German dataset example is a sequence of padded integer tokens).\n",
        "* Load the training and validation sets into a tf.data.Dataset object, passing in a tuple of English and German data for both training and validation sets.\n",
        "* Create a function to map over the datasets that splits each English sentence at spaces. Apply this function to both Dataset objects using the map method. _Hint: look at the tf.strings.split function._\n",
        "* Create a function to map over the datasets that embeds each sequence of English words using the loaded embedding layer/model. Apply this function to both Dataset objects using the map method.\n",
        "* Create a function to filter out dataset examples where the English sentence is more than 13 (embedded) tokens in length. Apply this function to both Dataset objects using the filter method.\n",
        "* Create a function to map over the datasets that pads each English sequence of embeddings with some distinct padding value before the sequence, so that each sequence is length 13. Apply this function to both Dataset objects using the map method. _Hint: look at the tf.pad function. You can extract a Tensor shape using tf.shape; you might also find the tf.math.maximum function useful._\n",
        "* Batch both training and validation Datasets with a batch size of 16.\n",
        "* Print the `element_spec` property for the training and validation Datasets. \n",
        "* Using the Dataset `.take(1)` method, print the shape of the English data example from the training Dataset.\n",
        "* Using the Dataset `.take(1)` method, print the German data example Tensor from the validation Dataset."
      ]
    },
    {
      "cell_type": "code",
      "metadata": {
        "id": "k74klqftnDVU"
      },
      "source": [
        "x_train, x_val, y_train, y_val = train_test_split(eng_sentences, german_tokenized_pad_seq, test_size=0.33)"
      ],
      "execution_count": 12,
      "outputs": []
    },
    {
      "cell_type": "code",
      "metadata": {
        "id": "fpO1RxSKnDVU"
      },
      "source": [
        "train_dataset = tf.data.Dataset.from_tensor_slices((x_train, y_train))\n",
        "val_dataset = tf.data.Dataset.from_tensor_slices((x_val, y_val))"
      ],
      "execution_count": 13,
      "outputs": []
    },
    {
      "cell_type": "code",
      "metadata": {
        "id": "hAJlQjgvnDVU"
      },
      "source": [
        "def map_split_dataset(x, y):\n",
        "    return tf.strings.split(x, ' '), y\n",
        "train_dataset = train_dataset.map(map_split_dataset)\n",
        "val_dataset = val_dataset.map(map_split_dataset)"
      ],
      "execution_count": 14,
      "outputs": []
    },
    {
      "cell_type": "code",
      "metadata": {
        "id": "m32p6js8nDVU"
      },
      "source": [
        "def map_embbed_dataset(x, y):\n",
        "    return embedding_layer(x), y"
      ],
      "execution_count": 15,
      "outputs": []
    },
    {
      "cell_type": "code",
      "metadata": {
        "id": "rMpB8lCInDVU"
      },
      "source": [
        "train_dataset = train_dataset.map(map_embbed_dataset)\n",
        "val_dataset = val_dataset.map(map_embbed_dataset)"
      ],
      "execution_count": 16,
      "outputs": []
    },
    {
      "cell_type": "code",
      "metadata": {
        "id": "Zxf5odXLnDVU"
      },
      "source": [
        "train_dataset = train_dataset.filter(lambda x, y: False if ((tf.shape(x)[0]) > 13) else True)\n",
        "val_dataset = val_dataset.filter(lambda x, y: False if ((tf.shape(x)[0]) > 13) else True)"
      ],
      "execution_count": 17,
      "outputs": []
    },
    {
      "cell_type": "code",
      "metadata": {
        "id": "ckkQAf6nnDVU"
      },
      "source": [
        "def map_pad_dataset(x, y):\n",
        "    return tf.pad(x, paddings=[[13 - len(x), 0], [0,0]]), y"
      ],
      "execution_count": 18,
      "outputs": []
    },
    {
      "cell_type": "code",
      "metadata": {
        "id": "pxJXuTCDnDVU"
      },
      "source": [
        "train_dataset = train_dataset.map(map_pad_dataset)\n",
        "val_dataset = val_dataset.map(map_pad_dataset)"
      ],
      "execution_count": 19,
      "outputs": []
    },
    {
      "cell_type": "code",
      "metadata": {
        "id": "EpgVALB_nDVU"
      },
      "source": [
        "train_dataset = train_dataset.batch(16, drop_remainder=True)\n",
        "val_dataset = val_dataset.batch(16, drop_remainder=True)"
      ],
      "execution_count": 20,
      "outputs": []
    },
    {
      "cell_type": "code",
      "metadata": {
        "id": "BYQcWtXBnDVU",
        "colab": {
          "base_uri": "https://localhost:8080/"
        },
        "outputId": "2fe5ddad-ff9d-45b1-d4fa-d39ad647a3d4"
      },
      "source": [
        "print(train_dataset.element_spec)\n",
        "print(val_dataset.element_spec)"
      ],
      "execution_count": 21,
      "outputs": [
        {
          "output_type": "stream",
          "text": [
            "(TensorSpec(shape=(16, None, 128), dtype=tf.float32, name=None), TensorSpec(shape=(16, 85), dtype=tf.int32, name=None))\n",
            "(TensorSpec(shape=(16, None, 128), dtype=tf.float32, name=None), TensorSpec(shape=(16, 85), dtype=tf.int32, name=None))\n"
          ],
          "name": "stdout"
        }
      ]
    },
    {
      "cell_type": "code",
      "metadata": {
        "id": "sIo7r2F2UqI0"
      },
      "source": [
        "tmp_train_data = next(iter(train_dataset.take(1)))\n",
        "tmp_val_data = next(iter(val_dataset.take(1)))"
      ],
      "execution_count": 22,
      "outputs": []
    },
    {
      "cell_type": "markdown",
      "metadata": {
        "id": "wZ61mJdKnDVU"
      },
      "source": [
        "## 3. Create the custom layer\n",
        "You will now create a custom layer to add the learned end token embedding to the encoder model:\n",
        "\n",
        "![Encoder schematic](data/neural_translation_model_encoder.png)"
      ]
    },
    {
      "cell_type": "markdown",
      "metadata": {
        "id": "lB1Sqmz3nDVU"
      },
      "source": [
        "You should now build the custom layer.\n",
        "* Using layer subclassing, create a custom layer that takes a batch of English data examples from one of the Datasets, and adds a learned embedded ‘end’ token to the end of each sequence. \n",
        "* This layer should create a TensorFlow Variable (that will be learned during training) that is 128-dimensional (the size of the embedding space). _Hint: you may find it helpful in the call method to use the tf.tile function to replicate the end token embedding across every element in the batch._\n",
        "* Using the Dataset `.take(1)` method, extract a batch of English data examples from the training Dataset and print the shape. Test the custom layer by calling the layer on the English data batch Tensor and print the resulting Tensor shape (the layer should increase the sequence length by one)."
      ]
    },
    {
      "cell_type": "code",
      "metadata": {
        "id": "FNue_tpsnDVU"
      },
      "source": [
        "class MyLayer(Layer):\n",
        "    def __init__(self):\n",
        "        super(MyLayer, self).__init__()\n",
        "        self.emb_space = tf.Variable(initial_value=tf.random.uniform(shape=(128,)), trainable=True)\n",
        "    \n",
        "    def call(self, inputs):\n",
        "        output = tf.tile(tf.reshape(self.emb_space, shape=(1, 1, tf.shape(self.emb_space)[0])), [tf.shape(inputs)[0], 1, 1])\n",
        "        return tf.keras.layers.concatenate([inputs, output], axis=1)\n",
        "\n",
        "mylayer = MyLayer()\n"
      ],
      "execution_count": 23,
      "outputs": []
    },
    {
      "cell_type": "code",
      "metadata": {
        "id": "EF9Zmf-LnDVU",
        "colab": {
          "base_uri": "https://localhost:8080/"
        },
        "outputId": "7b33ffa2-075b-436c-bcbe-df9b5d191d6d"
      },
      "source": [
        "print(tmp_train_data[0].shape)\n",
        "print(mylayer(tmp_train_data[0]).shape)"
      ],
      "execution_count": 24,
      "outputs": [
        {
          "output_type": "stream",
          "text": [
            "(16, 13, 128)\n",
            "(16, 14, 128)\n"
          ],
          "name": "stdout"
        }
      ]
    },
    {
      "cell_type": "markdown",
      "metadata": {
        "id": "4lAHoYsinDVU"
      },
      "source": [
        "## 4. Build the encoder network\n",
        "The encoder network follows the schematic diagram above. You should now build the RNN encoder model.\n",
        "* Using the functional API, build the encoder network according to the following spec:\n",
        "    * The model will take a batch of sequences of embedded English words as input, as given by the Dataset objects.\n",
        "    * The next layer in the encoder will be the custom layer you created previously, to add a learned end token embedding to the end of the English sequence.\n",
        "    * This is followed by a Masking layer, with the `mask_value` set to the distinct padding value you used when you padded the English sequences with the Dataset preprocessing above.\n",
        "    * The final layer is an LSTM layer with 512 units, which also returns the hidden and cell states.\n",
        "    * The encoder is a multi-output model. There should be two output Tensors of this model: the hidden state and cell states of the LSTM layer. The output of the LSTM layer is unused.\n",
        "* Using the Dataset `.take(1)` method, extract a batch of English data examples from the training Dataset and test the encoder model by calling it on the English data Tensor, and print the shape of the resulting Tensor outputs.\n",
        "* Print the model summary for the encoder network."
      ]
    },
    {
      "cell_type": "code",
      "metadata": {
        "id": "QvvDCtqBnDVU"
      },
      "source": [
        "inputs = Input(batch_shape=(None, 13, 128))\n",
        "x = mylayer(inputs)"
      ],
      "execution_count": 25,
      "outputs": []
    },
    {
      "cell_type": "code",
      "metadata": {
        "id": "LaKNxI9inDVU"
      },
      "source": [
        "x = Masking(mask_value = 0)(x)\n",
        "x, hidden_s, cell_s = LSTM(512, return_state=True)(x)\n",
        "EncoderModel = Model(inputs=inputs, outputs=[hidden_s, cell_s])"
      ],
      "execution_count": 26,
      "outputs": []
    },
    {
      "cell_type": "code",
      "metadata": {
        "id": "39sxNR9tnDVU",
        "colab": {
          "base_uri": "https://localhost:8080/"
        },
        "outputId": "e08355ff-3c4d-4d14-cb6a-ccefa77ef48d"
      },
      "source": [
        "EncoderModel.summary()\n"
      ],
      "execution_count": 27,
      "outputs": [
        {
          "output_type": "stream",
          "text": [
            "Model: \"model\"\n",
            "_________________________________________________________________\n",
            "Layer (type)                 Output Shape              Param #   \n",
            "=================================================================\n",
            "input_1 (InputLayer)         [(None, 13, 128)]         0         \n",
            "_________________________________________________________________\n",
            "my_layer (MyLayer)           (None, 14, 128)           128       \n",
            "_________________________________________________________________\n",
            "masking (Masking)            (None, 14, 128)           0         \n",
            "_________________________________________________________________\n",
            "lstm (LSTM)                  [(None, 512), (None, 512) 1312768   \n",
            "=================================================================\n",
            "Total params: 1,312,896\n",
            "Trainable params: 1,312,896\n",
            "Non-trainable params: 0\n",
            "_________________________________________________________________\n"
          ],
          "name": "stdout"
        }
      ]
    },
    {
      "cell_type": "markdown",
      "metadata": {
        "id": "GY56ZxmOnDVU"
      },
      "source": [
        "## 5. Build the decoder network\n",
        "The decoder network follows the schematic diagram below. \n",
        "\n",
        "![Decoder schematic](data/neural_translation_model_decoder.png)"
      ]
    },
    {
      "cell_type": "markdown",
      "metadata": {
        "id": "inFckT-7nDVU"
      },
      "source": [
        "You should now build the RNN decoder model.\n",
        "* Using Model subclassing, build the decoder network according to the following spec:\n",
        "    * The initializer should create the following layers:\n",
        "        * An Embedding layer with vocabulary size set to the number of unique German tokens, embedding dimension 128, and set to mask zero values in the input.\n",
        "        * An LSTM layer with 512 units, that returns its hidden and cell states, and also returns sequences.\n",
        "        * A Dense layer with number of units equal to the number of unique German tokens, and no activation function.\n",
        "    * The call method should include the usual `inputs` argument, as well as the additional keyword arguments `hidden_state` and `cell_state`. The default value for these keyword arguments should be `None`.\n",
        "    * The call method should pass the inputs through the Embedding layer, and then through the LSTM layer. If the `hidden_state` and `cell_state` arguments are provided, these should be used for the initial state of the LSTM layer. _Hint: use the_ `initial_state` _keyword argument when calling the LSTM layer on its input._\n",
        "    * The call method should pass the LSTM output sequence through the Dense layer, and return the resulting Tensor, along with the hidden and cell states of the LSTM layer.\n",
        "* Using the Dataset `.take(1)` method, extract a batch of English and German data examples from the training Dataset. Test the decoder model by first calling the encoder model on the English data Tensor to get the hidden and cell states, and then call the decoder model on the German data Tensor and hidden and cell states, and print the shape of the resulting decoder Tensor outputs.\n",
        "* Print the model summary for the decoder network."
      ]
    },
    {
      "cell_type": "code",
      "metadata": {
        "id": "KiyQYGmOnDVU"
      },
      "source": [
        "class DecoderModel(Model):\n",
        "    def __init__(self):\n",
        "        super(DecoderModel, self).__init__()\n",
        "        self.layer_1 = Embedding(input_dim=len(tokenizer.word_index) + 1, output_dim=128, mask_zero=True)\n",
        "        self.layer_2 = LSTM(512, return_sequences=True, return_state=True)\n",
        "        self.layer_3 = Dense(len(tokenizer.word_index) + 1)\n",
        "        \n",
        "    def call(self, inputs, hidden_state=None, cell_state=None):\n",
        "        x = self.layer_1(inputs)\n",
        "        if hidden_state is not None and cell_state is not None:\n",
        "            x, hidden_s, cell_s = self.layer_2(x, initial_state=[hidden_state, cell_state])\n",
        "        else:\n",
        "            x, hidden_s, cell_s = self.layer_2(x)\n",
        "        x = self.layer_3(x)\n",
        "        return x, hidden_s, cell_s\n",
        "    \n",
        "decoder = DecoderModel()"
      ],
      "execution_count": 28,
      "outputs": []
    },
    {
      "cell_type": "code",
      "metadata": {
        "id": "HEp5puE5nDVU",
        "colab": {
          "base_uri": "https://localhost:8080/"
        },
        "outputId": "b815fdd7-7529-4839-bb34-8f0add476636"
      },
      "source": [
        "enc_hidden_s, enc_cell_s = EncoderModel(tmp_train_data[0])\n",
        "dec_output, dec_hidden_s, dec_cell_s = decoder(tmp_train_data[1], enc_hidden_s, enc_cell_s)\n",
        "print(dec_output.shape)\n",
        "print(dec_hidden_s.shape)\n",
        "print(dec_cell_s.shape)"
      ],
      "execution_count": 29,
      "outputs": [
        {
          "output_type": "stream",
          "text": [
            "(16, 85, 33714)\n",
            "(16, 512)\n",
            "(16, 512)\n"
          ],
          "name": "stdout"
        }
      ]
    },
    {
      "cell_type": "code",
      "metadata": {
        "id": "zIS1nlXgnDVU",
        "colab": {
          "base_uri": "https://localhost:8080/"
        },
        "outputId": "c46dbe37-2d1b-4e7a-cf1e-e0c9161184fd"
      },
      "source": [
        "decoder.summary()\n"
      ],
      "execution_count": 30,
      "outputs": [
        {
          "output_type": "stream",
          "text": [
            "Model: \"decoder_model\"\n",
            "_________________________________________________________________\n",
            "Layer (type)                 Output Shape              Param #   \n",
            "=================================================================\n",
            "embedding (Embedding)        multiple                  4315392   \n",
            "_________________________________________________________________\n",
            "lstm_1 (LSTM)                multiple                  1312768   \n",
            "_________________________________________________________________\n",
            "dense (Dense)                multiple                  17295282  \n",
            "=================================================================\n",
            "Total params: 22,923,442\n",
            "Trainable params: 22,923,442\n",
            "Non-trainable params: 0\n",
            "_________________________________________________________________\n"
          ],
          "name": "stdout"
        }
      ]
    },
    {
      "cell_type": "markdown",
      "metadata": {
        "id": "AsrLl69BnDVU"
      },
      "source": [
        "## 6. Make a custom training loop\n",
        "You should now write a custom training loop to train your custom neural translation model.\n",
        "* Define a function that takes a Tensor batch of German data (as extracted from the training Dataset), and returns a tuple containing German inputs and outputs for the decoder model (refer to schematic diagram above).\n",
        "* Define a function that computes the forward and backward pass for your translation model. This function should take an English input, German input and German output as arguments, and should do the following:\n",
        "    * Pass the English input into the encoder, to get the hidden and cell states of the encoder LSTM.\n",
        "    * These hidden and cell states are then passed into the decoder, along with the German inputs, which returns a sequence of outputs (the hidden and cell state outputs of the decoder LSTM are unused in this function).\n",
        "    * The loss should then be computed between the decoder outputs and the German output function argument.\n",
        "    * The function returns the loss and gradients with respect to the encoder and decoder’s trainable variables.\n",
        "    * Decorate the function with @tf.function\n",
        "* Define and run a custom training loop for a number of epochs (for you to choose) that does the following:\n",
        "    * Iterates through the training dataset, and creates decoder inputs and outputs from the German sequences.\n",
        "    * Updates the parameters of the translation model using the gradients of the function above and an optimizer object.\n",
        "    * Every epoch, compute the validation loss on a number of batches from the validation and save the epoch training and validation losses.\n",
        "* Plot the learning curves for loss vs epoch for both training and validation sets.\n",
        "\n",
        "_Hint: This model is computationally demanding to train. The quality of the model or length of training is not a factor in the grading rubric. However, to obtain a better model we recommend using the GPU accelerator hardware on Colab._"
      ]
    },
    {
      "cell_type": "code",
      "metadata": {
        "id": "cBW7VLnXnDVU"
      },
      "source": [
        "optimizer_obj = tf.keras.optimizers.Adam()\n",
        "loss_obj = tf.keras.losses.SparseCategoricalCrossentropy(from_logits=True)\n",
        "variables = EncoderModel.trainable_variables + decoder.trainable_variables"
      ],
      "execution_count": 31,
      "outputs": []
    },
    {
      "cell_type": "code",
      "metadata": {
        "id": "BFiV254SnDVU"
      },
      "source": [
        "\n",
        "@tf.function\n",
        "def grad_fn(en_input, ger_input, ger_output, loss):\n",
        "    with tf.GradientTape() as tape:\n",
        "        enc_hidden_s, enc_cell_s = EncoderModel(en_input)\n",
        "        dec_output, dec_hidden_s, dec_cell_s = decoder(ger_input, enc_hidden_s, enc_cell_s)\n",
        "        \n",
        "        loss_value = loss(ger_output, dec_output)\n",
        "    return loss_value, tape.gradient(loss_value, variables)"
      ],
      "execution_count": 32,
      "outputs": []
    },
    {
      "cell_type": "code",
      "metadata": {
        "id": "o_mT0q-SnDVU"
      },
      "source": [
        "\n",
        "def train_model(num_epochs, train_dataset, val_dataset, grad_fn, optimizer, loss):\n",
        "    train_loss_results = []\n",
        "    val_loss_results = []\n",
        "    \n",
        "    for epoch in range(num_epochs):\n",
        "        epoch_loss_avg = tf.keras.metrics.Mean()\n",
        "        val_epoch_loss_avg = tf.keras.metrics.Mean()\n",
        "        \n",
        "        for en, ger in train_dataset:\n",
        "            dec_inputs, dec_outputs = ger[:, :-1], ger[:, 1:]\n",
        "            loss_value, grads= grad_fn(en, dec_inputs, dec_outputs, loss)\n",
        "            optimizer.apply_gradients(zip(grads, variables))\n",
        "            epoch_loss_avg(loss_value)\n",
        "            \n",
        "        for en, ger in val_dataset:\n",
        "            dec_inputs, dec_outputs = ger[:, :-1], ger[:, 1:]\n",
        "            \n",
        "            hidden_s, cell_s = EncoderModel(en)\n",
        "            model_preds, _, _ = decoder(dec_inputs, hidden_s, cell_s)\n",
        "            val_epoch_loss_avg(loss(dec_outputs, model_preds))\n",
        "            \n",
        "        train_loss_results.append(epoch_loss_avg.result())\n",
        "        val_loss_results.append(val_epoch_loss_avg.result())\n",
        "        print(\" Epoch: \", epoch,\" Loss: \", epoch_loss_avg.result(),\" Val_loss: \",val_epoch_loss_avg.result())\n",
        "    \n",
        "    return train_loss_results,val_loss_results"
      ],
      "execution_count": 33,
      "outputs": []
    },
    {
      "cell_type": "code",
      "metadata": {
        "colab": {
          "base_uri": "https://localhost:8080/"
        },
        "id": "0LUALbkOnDVU",
        "outputId": "e07c2399-feca-4f47-d13b-48da7162f9e6"
      },
      "source": [
        "train_loss_results, val_loss_results = train_model(20, train_dataset, val_dataset, grad_fn, optimizer_obj, loss_obj)"
      ],
      "execution_count": 34,
      "outputs": [
        {
          "output_type": "stream",
          "text": [
            " Epoch:  0  Loss:  tf.Tensor(3.7538588, shape=(), dtype=float32)  Val_loss:  tf.Tensor(0.415947, shape=(), dtype=float32)\n",
            " Epoch:  1  Loss:  tf.Tensor(0.26005855, shape=(), dtype=float32)  Val_loss:  tf.Tensor(0.22183213, shape=(), dtype=float32)\n",
            " Epoch:  2  Loss:  tf.Tensor(0.16184269, shape=(), dtype=float32)  Val_loss:  tf.Tensor(0.19743912, shape=(), dtype=float32)\n",
            " Epoch:  3  Loss:  tf.Tensor(0.121259294, shape=(), dtype=float32)  Val_loss:  tf.Tensor(0.191657, shape=(), dtype=float32)\n",
            " Epoch:  4  Loss:  tf.Tensor(0.0962967, shape=(), dtype=float32)  Val_loss:  tf.Tensor(0.1912983, shape=(), dtype=float32)\n",
            " Epoch:  5  Loss:  tf.Tensor(0.07996086, shape=(), dtype=float32)  Val_loss:  tf.Tensor(0.19420747, shape=(), dtype=float32)\n",
            " Epoch:  6  Loss:  tf.Tensor(0.06884811, shape=(), dtype=float32)  Val_loss:  tf.Tensor(0.19807652, shape=(), dtype=float32)\n",
            " Epoch:  7  Loss:  tf.Tensor(0.06072745, shape=(), dtype=float32)  Val_loss:  tf.Tensor(0.20209916, shape=(), dtype=float32)\n",
            " Epoch:  8  Loss:  tf.Tensor(0.054552283, shape=(), dtype=float32)  Val_loss:  tf.Tensor(0.2058303, shape=(), dtype=float32)\n",
            " Epoch:  9  Loss:  tf.Tensor(0.049625505, shape=(), dtype=float32)  Val_loss:  tf.Tensor(0.2103599, shape=(), dtype=float32)\n",
            " Epoch:  10  Loss:  tf.Tensor(0.045751225, shape=(), dtype=float32)  Val_loss:  tf.Tensor(0.21464096, shape=(), dtype=float32)\n",
            " Epoch:  11  Loss:  tf.Tensor(0.04273432, shape=(), dtype=float32)  Val_loss:  tf.Tensor(0.21810223, shape=(), dtype=float32)\n",
            " Epoch:  12  Loss:  tf.Tensor(0.04019759, shape=(), dtype=float32)  Val_loss:  tf.Tensor(0.22199868, shape=(), dtype=float32)\n",
            " Epoch:  13  Loss:  tf.Tensor(0.037986234, shape=(), dtype=float32)  Val_loss:  tf.Tensor(0.22658294, shape=(), dtype=float32)\n",
            " Epoch:  14  Loss:  tf.Tensor(0.036230486, shape=(), dtype=float32)  Val_loss:  tf.Tensor(0.22977103, shape=(), dtype=float32)\n",
            " Epoch:  15  Loss:  tf.Tensor(0.034739386, shape=(), dtype=float32)  Val_loss:  tf.Tensor(0.23311438, shape=(), dtype=float32)\n",
            " Epoch:  16  Loss:  tf.Tensor(0.033365995, shape=(), dtype=float32)  Val_loss:  tf.Tensor(0.2357238, shape=(), dtype=float32)\n",
            " Epoch:  17  Loss:  tf.Tensor(0.03229342, shape=(), dtype=float32)  Val_loss:  tf.Tensor(0.23890385, shape=(), dtype=float32)\n",
            " Epoch:  18  Loss:  tf.Tensor(0.03142945, shape=(), dtype=float32)  Val_loss:  tf.Tensor(0.24074765, shape=(), dtype=float32)\n",
            " Epoch:  19  Loss:  tf.Tensor(0.030630633, shape=(), dtype=float32)  Val_loss:  tf.Tensor(0.24476989, shape=(), dtype=float32)\n"
          ],
          "name": "stdout"
        }
      ]
    },
    {
      "cell_type": "code",
      "metadata": {
        "id": "273TmTqHnDVU",
        "colab": {
          "base_uri": "https://localhost:8080/",
          "height": 253
        },
        "outputId": "68bc5b7c-af69-4e6b-9d92-7544a546e873"
      },
      "source": [
        "plt.figure(figsize=(15, 5))\n",
        "plt.plot(train_loss_results)\n",
        "plt.plot(val_loss_results)\n",
        "plt.title('Loss vs. epochs')\n",
        "plt.ylabel('Loss')\n",
        "plt.xlabel('Epoch')\n",
        "plt.legend(['Training', 'Validation'])\n",
        "plt.show()"
      ],
      "execution_count": 38,
      "outputs": [
        {
          "output_type": "display_data",
          "data": {
            "image/png": "[encoded data removed]",
            "text/plain": [
              "<Figure size 1080x360 with 1 Axes>"
            ]
          },
          "metadata": {
            "tags": [],
            "needs_background": "light"
          }
        }
      ]
    },
    {
      "cell_type": "markdown",
      "metadata": {
        "id": "SohMJdwenDVU"
      },
      "source": [
        "## 7. Use the model to translate\n",
        "Now it's time to put your model into practice! You should run your translation for five randomly sampled English sentences from the dataset. For each sentence, the process is as follows:\n",
        "* Preprocess and embed the English sentence according to the model requirements.\n",
        "* Pass the embedded sentence through the encoder to get the encoder hidden and cell states.\n",
        "* Starting with the special  `\"<start>\"` token, use this token and the final encoder hidden and cell states to get the one-step prediction from the decoder, as well as the decoder’s updated hidden and cell states.\n",
        "* Create a loop to get the next step prediction and updated hidden and cell states from the decoder, using the most recent hidden and cell states. Terminate the loop when the `\"<end>\"` token is emitted, or when the sentence has reached a maximum length.\n",
        "* Decode the output token sequence into German text and print the English text and the model's German translation."
      ]
    },
    {
      "cell_type": "code",
      "metadata": {
        "id": "DD_GaP8bcyHs"
      },
      "source": [
        "samples = np.random.choice(len(eng_sentences), 5, replace=False)\n"
      ],
      "execution_count": 39,
      "outputs": []
    },
    {
      "cell_type": "code",
      "metadata": {
        "id": "nuyQUSh2dY3D",
        "colab": {
          "base_uri": "https://localhost:8080/"
        },
        "outputId": "a500bb1f-bd86-4781-be2d-7139cd05c4ab"
      },
      "source": [
        "for i, sample in enumerate(samples):\n",
        "    en = tf.strings.split(eng_sentences[sample])\n",
        "    en_emb = embedding_layer(en)\n",
        "    padding = [[tf.math.maximum(13-tf.shape(en_emb)[0],0), 0], [0,0]]\n",
        "    en_emb_pad = tf.expand_dims(tf.pad(en_emb, padding), axis=0)\n",
        "    result = list()\n",
        "    hidden_s, cell_s = EncoderModel(en_emb_pad)\n",
        "    dec_input = tf.Variable([[tokenizer.word_index['<start>']]])\n",
        "    \n",
        "    for t in range(train_dataset.element_spec[1].shape[1]):\n",
        "        dec_output, hidden_s, cell_s = decoder(dec_input, hidden_s, cell_s)\n",
        "        dec_output = tf.squeeze(tf.argmax(dec_output, axis=2)).numpy()\n",
        "        \n",
        "        if dec_output == tokenizer.word_index['<end>']:\n",
        "            break\n",
        "        result.append(tokenizer.index_word[dec_output])\n",
        "        dec_input = tf.Variable([[dec_output]])\n",
        "    \n",
        "    result = ' '.join(word for word in result)\n",
        "    print(\"Sample: {}\".format(i + 1))\n",
        "    print(\"English Sentence: {}\".format(eng_sentences[sample]))\n",
        "    print(\"German Sentence: {}\".format(ger_sentences[sample]))\n",
        "    print(\"German Translation: {}\".format(result))\n",
        "    print('-' * 5)"
      ],
      "execution_count": 40,
      "outputs": [
        {
          "output_type": "stream",
          "text": [
            "Sample: 1\n",
            "English Sentence: i believe that he is innocent .\n",
            "German Sentence: <start> ich halte ihn fuer unschuldig . <end>\n",
            "German Translation: ich glaube , dass er unschuldig ist .\n",
            "-----\n",
            "Sample: 2\n",
            "English Sentence: do you believe judas betrayed jesus christ ?\n",
            "German Sentence: <start> glaubt ihr , dass judas jesus christus verraten hat ? <end>\n",
            "German Translation: glaubst du , dass judas jesus christus verraten hat ?\n",
            "-----\n",
            "Sample: 3\n",
            "English Sentence: it's hard to believe that's a coincidence .\n",
            "German Sentence: <start> es ist schwer zu glauben , dass es sich dabei um einen zufall handelt . <end>\n",
            "German Translation: es ist ganz und eine luege bringt .\n",
            "-----\n",
            "Sample: 4\n",
            "English Sentence: tom gave a sigh .\n",
            "German Sentence: <start> tom seufzte . <end>\n",
            "German Translation: tom seufzte .\n",
            "-----\n",
            "Sample: 5\n",
            "English Sentence: tom asked me if i were happy .\n",
            "German Sentence: <start> tom fragte mich , ob ich gluecklich sei . <end>\n",
            "German Translation: tom fragte mich , ob ich gluecklich sei .\n",
            "-----\n"
          ],
          "name": "stdout"
        }
      ]
    }
  ]
}